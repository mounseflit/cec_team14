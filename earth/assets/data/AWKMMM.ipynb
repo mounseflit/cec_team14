{
  "metadata": {
    "language_info": {
      "codemirror_mode": {
        "name": "python",
        "version": 3
      },
      "file_extension": ".py",
      "mimetype": "text/x-python",
      "name": "python",
      "nbconvert_exporter": "python",
      "pygments_lexer": "ipython3",
      "version": "3.8"
    },
    "kernelspec": {
      "name": "python",
      "display_name": "Python (Pyodide)",
      "language": "python"
    }
  },
  "nbformat_minor": 4,
  "nbformat": 4,
  "cells": [
    {
      "cell_type": "raw",
      "source": "1- SETTING UP THE ENVIRONMENT",
      "metadata": {}
    },
    {
      "cell_type": "code",
      "source": "#INSTALLING REQUIRED LIBRARIES\n\n%pip install pandas numpy matplotlib seaborn plotly",
      "metadata": {
        "trusted": true
      },
      "execution_count": 19,
      "outputs": []
    },
    {
      "cell_type": "code",
      "source": "#IMPORTING LIBRARIES\n\nimport pandas as pd\nimport numpy as np\nimport matplotlib.pyplot as plt\nimport seaborn as sns\nimport plotly.express as px",
      "metadata": {
        "trusted": true
      },
      "execution_count": 20,
      "outputs": []
    },
    {
      "cell_type": "code",
      "source": "#IMPORTING AND READING OUR DATA USING PANDAS\n\nfilepath = \"data/Airplane_Crashes_and_Fatalities_Since_1908.csv\"\ndata = pd.read_csv(filepath)",
      "metadata": {
        "trusted": true
      },
      "execution_count": 21,
      "outputs": []
    },
    {
      "cell_type": "code",
      "source": "2- EXPLORING DATASET",
      "metadata": {},
      "execution_count": null,
      "outputs": []
    },
    {
      "cell_type": "code",
      "source": "#PREVIEW OF OUR DATA ( EX FIRST 10 LINES )\n\ndata.head(10)",
      "metadata": {
        "trusted": true
      },
      "execution_count": 23,
      "outputs": [
        {
          "execution_count": 23,
          "output_type": "execute_result",
          "data": {
            "text/plain": "         Date   Time                            Location  \\\n0  09/17/1908  17:18                 Fort Myer, Virginia   \n1  07/12/1912  06:30             AtlantiCity, New Jersey   \n2  08/06/1913    NaN  Victoria, British Columbia, Canada   \n3  09/09/1913  18:30                  Over the North Sea   \n4  10/17/1913  10:30          Near Johannisthal, Germany   \n5  03/05/1915  01:00                     Tienen, Belgium   \n6  09/03/1915  15:20               Off Cuxhaven, Germany   \n7  07/28/1916    NaN               Near Jambol, Bulgeria   \n8  09/24/1916  01:00                 Billericay, England   \n9  10/01/1916  23:45                Potters Bar, England   \n\n                 Operator Flight #          Route  \\\n0    Military - U.S. Army      NaN  Demonstration   \n1    Military - U.S. Navy      NaN    Test flight   \n2                 Private        -            NaN   \n3  Military - German Navy      NaN            NaN   \n4  Military - German Navy      NaN            NaN   \n5  Military - German Navy      NaN            NaN   \n6  Military - German Navy      NaN            NaN   \n7  Military - German Army      NaN            NaN   \n8  Military - German Navy      NaN            NaN   \n9  Military - German Navy      NaN            NaN   \n\n                            Type Registration cn/In  Aboard  Fatalities  \\\n0               Wright Flyer III          NaN     1     2.0         1.0   \n1                      Dirigible          NaN   NaN     5.0         5.0   \n2               Curtiss seaplane          NaN   NaN     1.0         1.0   \n3         Zeppelin L-1 (airship)          NaN   NaN    20.0        14.0   \n4         Zeppelin L-2 (airship)          NaN   NaN    30.0        30.0   \n5         Zeppelin L-8 (airship)          NaN   NaN    41.0        21.0   \n6        Zeppelin L-10 (airship)          NaN   NaN    19.0        19.0   \n7  Schutte-Lanz S-L-10 (airship)          NaN   NaN    20.0        20.0   \n8        Zeppelin L-32 (airship)          NaN   NaN    22.0        22.0   \n9        Zeppelin L-31 (airship)          NaN   NaN    19.0        19.0   \n\n   Ground                                            Summary  \n0     0.0  During a demonstration flight, a U.S. Army fly...  \n1     0.0  First U.S. dirigible Akron exploded just offsh...  \n2     0.0  The first fatal airplane accident in Canada oc...  \n3     0.0  The airship flew into a thunderstorm and encou...  \n4     0.0  Hydrogen gas which was being vented was sucked...  \n5     0.0  Crashed into trees while attempting to land af...  \n6     0.0  Exploded and burned near Neuwerk Island,  when...  \n7     0.0         Crashed near the Black Sea, cause unknown.  \n8     0.0  Shot down by British aircraft crashing in flames.  \n9     0.0  Shot down in flames by the British 39th Home D...  ",
            "text/html": "<div>\n<style scoped>\n    .dataframe tbody tr th:only-of-type {\n        vertical-align: middle;\n    }\n\n    .dataframe tbody tr th {\n        vertical-align: top;\n    }\n\n    .dataframe thead th {\n        text-align: right;\n    }\n</style>\n<table border=\"1\" class=\"dataframe\">\n  <thead>\n    <tr style=\"text-align: right;\">\n      <th></th>\n      <th>Date</th>\n      <th>Time</th>\n      <th>Location</th>\n      <th>Operator</th>\n      <th>Flight #</th>\n      <th>Route</th>\n      <th>Type</th>\n      <th>Registration</th>\n      <th>cn/In</th>\n      <th>Aboard</th>\n      <th>Fatalities</th>\n      <th>Ground</th>\n      <th>Summary</th>\n    </tr>\n  </thead>\n  <tbody>\n    <tr>\n      <th>0</th>\n      <td>09/17/1908</td>\n      <td>17:18</td>\n      <td>Fort Myer, Virginia</td>\n      <td>Military - U.S. Army</td>\n      <td>NaN</td>\n      <td>Demonstration</td>\n      <td>Wright Flyer III</td>\n      <td>NaN</td>\n      <td>1</td>\n      <td>2.0</td>\n      <td>1.0</td>\n      <td>0.0</td>\n      <td>During a demonstration flight, a U.S. Army fly...</td>\n    </tr>\n    <tr>\n      <th>1</th>\n      <td>07/12/1912</td>\n      <td>06:30</td>\n      <td>AtlantiCity, New Jersey</td>\n      <td>Military - U.S. Navy</td>\n      <td>NaN</td>\n      <td>Test flight</td>\n      <td>Dirigible</td>\n      <td>NaN</td>\n      <td>NaN</td>\n      <td>5.0</td>\n      <td>5.0</td>\n      <td>0.0</td>\n      <td>First U.S. dirigible Akron exploded just offsh...</td>\n    </tr>\n    <tr>\n      <th>2</th>\n      <td>08/06/1913</td>\n      <td>NaN</td>\n      <td>Victoria, British Columbia, Canada</td>\n      <td>Private</td>\n      <td>-</td>\n      <td>NaN</td>\n      <td>Curtiss seaplane</td>\n      <td>NaN</td>\n      <td>NaN</td>\n      <td>1.0</td>\n      <td>1.0</td>\n      <td>0.0</td>\n      <td>The first fatal airplane accident in Canada oc...</td>\n    </tr>\n    <tr>\n      <th>3</th>\n      <td>09/09/1913</td>\n      <td>18:30</td>\n      <td>Over the North Sea</td>\n      <td>Military - German Navy</td>\n      <td>NaN</td>\n      <td>NaN</td>\n      <td>Zeppelin L-1 (airship)</td>\n      <td>NaN</td>\n      <td>NaN</td>\n      <td>20.0</td>\n      <td>14.0</td>\n      <td>0.0</td>\n      <td>The airship flew into a thunderstorm and encou...</td>\n    </tr>\n    <tr>\n      <th>4</th>\n      <td>10/17/1913</td>\n      <td>10:30</td>\n      <td>Near Johannisthal, Germany</td>\n      <td>Military - German Navy</td>\n      <td>NaN</td>\n      <td>NaN</td>\n      <td>Zeppelin L-2 (airship)</td>\n      <td>NaN</td>\n      <td>NaN</td>\n      <td>30.0</td>\n      <td>30.0</td>\n      <td>0.0</td>\n      <td>Hydrogen gas which was being vented was sucked...</td>\n    </tr>\n    <tr>\n      <th>5</th>\n      <td>03/05/1915</td>\n      <td>01:00</td>\n      <td>Tienen, Belgium</td>\n      <td>Military - German Navy</td>\n      <td>NaN</td>\n      <td>NaN</td>\n      <td>Zeppelin L-8 (airship)</td>\n      <td>NaN</td>\n      <td>NaN</td>\n      <td>41.0</td>\n      <td>21.0</td>\n      <td>0.0</td>\n      <td>Crashed into trees while attempting to land af...</td>\n    </tr>\n    <tr>\n      <th>6</th>\n      <td>09/03/1915</td>\n      <td>15:20</td>\n      <td>Off Cuxhaven, Germany</td>\n      <td>Military - German Navy</td>\n      <td>NaN</td>\n      <td>NaN</td>\n      <td>Zeppelin L-10 (airship)</td>\n      <td>NaN</td>\n      <td>NaN</td>\n      <td>19.0</td>\n      <td>19.0</td>\n      <td>0.0</td>\n      <td>Exploded and burned near Neuwerk Island,  when...</td>\n    </tr>\n    <tr>\n      <th>7</th>\n      <td>07/28/1916</td>\n      <td>NaN</td>\n      <td>Near Jambol, Bulgeria</td>\n      <td>Military - German Army</td>\n      <td>NaN</td>\n      <td>NaN</td>\n      <td>Schutte-Lanz S-L-10 (airship)</td>\n      <td>NaN</td>\n      <td>NaN</td>\n      <td>20.0</td>\n      <td>20.0</td>\n      <td>0.0</td>\n      <td>Crashed near the Black Sea, cause unknown.</td>\n    </tr>\n    <tr>\n      <th>8</th>\n      <td>09/24/1916</td>\n      <td>01:00</td>\n      <td>Billericay, England</td>\n      <td>Military - German Navy</td>\n      <td>NaN</td>\n      <td>NaN</td>\n      <td>Zeppelin L-32 (airship)</td>\n      <td>NaN</td>\n      <td>NaN</td>\n      <td>22.0</td>\n      <td>22.0</td>\n      <td>0.0</td>\n      <td>Shot down by British aircraft crashing in flames.</td>\n    </tr>\n    <tr>\n      <th>9</th>\n      <td>10/01/1916</td>\n      <td>23:45</td>\n      <td>Potters Bar, England</td>\n      <td>Military - German Navy</td>\n      <td>NaN</td>\n      <td>NaN</td>\n      <td>Zeppelin L-31 (airship)</td>\n      <td>NaN</td>\n      <td>NaN</td>\n      <td>19.0</td>\n      <td>19.0</td>\n      <td>0.0</td>\n      <td>Shot down in flames by the British 39th Home D...</td>\n    </tr>\n  </tbody>\n</table>\n</div>"
          },
          "metadata": {}
        }
      ]
    },
    {
      "cell_type": "code",
      "source": "#SHAPES OF OUR DATE ( NUMBER OF LINES , NUMBER OF COLUMS )\n\ndata.shape",
      "metadata": {
        "trusted": true
      },
      "execution_count": 24,
      "outputs": [
        {
          "execution_count": 24,
          "output_type": "execute_result",
          "data": {
            "text/plain": "(5268, 13)"
          },
          "metadata": {}
        }
      ]
    },
    {
      "cell_type": "code",
      "source": "#DATA INFO ( COLUMNS + NON NULL VALUES + TYPE OF DATA )\n\ndata.info()",
      "metadata": {
        "trusted": true
      },
      "execution_count": 25,
      "outputs": [
        {
          "name": "stdout",
          "text": "<class 'pandas.core.frame.DataFrame'>\nRangeIndex: 5268 entries, 0 to 5267\nData columns (total 13 columns):\n #   Column        Non-Null Count  Dtype  \n---  ------        --------------  -----  \n 0   Date          5268 non-null   object \n 1   Time          3049 non-null   object \n 2   Location      5248 non-null   object \n 3   Operator      5250 non-null   object \n 4   Flight #      1069 non-null   object \n 5   Route         3562 non-null   object \n 6   Type          5241 non-null   object \n 7   Registration  4933 non-null   object \n 8   cn/In         4040 non-null   object \n 9   Aboard        5246 non-null   float64\n 10  Fatalities    5256 non-null   float64\n 11  Ground        5246 non-null   float64\n 12  Summary       4878 non-null   object \ndtypes: float64(3), object(10)\nmemory usage: 329.3+ KB\n",
          "output_type": "stream"
        }
      ]
    },
    {
      "cell_type": "code",
      "source": "#DESCRIPTIVE STATISTICS OF OUR FLOATS DATA \n\ndata.describe().T",
      "metadata": {
        "trusted": true
      },
      "execution_count": 26,
      "outputs": [
        {
          "execution_count": 26,
          "output_type": "execute_result",
          "data": {
            "text/plain": "             count       mean        std  min  25%   50%   75%     max\nAboard      5246.0  27.554518  43.076711  0.0  5.0  13.0  30.0   644.0\nFatalities  5256.0  20.068303  33.199952  0.0  3.0   9.0  23.0   583.0\nGround      5246.0   1.608845  53.987827  0.0  0.0   0.0   0.0  2750.0",
            "text/html": "<div>\n<style scoped>\n    .dataframe tbody tr th:only-of-type {\n        vertical-align: middle;\n    }\n\n    .dataframe tbody tr th {\n        vertical-align: top;\n    }\n\n    .dataframe thead th {\n        text-align: right;\n    }\n</style>\n<table border=\"1\" class=\"dataframe\">\n  <thead>\n    <tr style=\"text-align: right;\">\n      <th></th>\n      <th>count</th>\n      <th>mean</th>\n      <th>std</th>\n      <th>min</th>\n      <th>25%</th>\n      <th>50%</th>\n      <th>75%</th>\n      <th>max</th>\n    </tr>\n  </thead>\n  <tbody>\n    <tr>\n      <th>Aboard</th>\n      <td>5246.0</td>\n      <td>27.554518</td>\n      <td>43.076711</td>\n      <td>0.0</td>\n      <td>5.0</td>\n      <td>13.0</td>\n      <td>30.0</td>\n      <td>644.0</td>\n    </tr>\n    <tr>\n      <th>Fatalities</th>\n      <td>5256.0</td>\n      <td>20.068303</td>\n      <td>33.199952</td>\n      <td>0.0</td>\n      <td>3.0</td>\n      <td>9.0</td>\n      <td>23.0</td>\n      <td>583.0</td>\n    </tr>\n    <tr>\n      <th>Ground</th>\n      <td>5246.0</td>\n      <td>1.608845</td>\n      <td>53.987827</td>\n      <td>0.0</td>\n      <td>0.0</td>\n      <td>0.0</td>\n      <td>0.0</td>\n      <td>2750.0</td>\n    </tr>\n  </tbody>\n</table>\n</div>"
          },
          "metadata": {}
        }
      ]
    },
    {
      "cell_type": "code",
      "source": "3- CLEANING DATASET ",
      "metadata": {},
      "execution_count": null,
      "outputs": []
    },
    {
      "cell_type": "code",
      "source": "#IDENTIFYING THE NaN VALUES IN OUR DATA\n\ndata.isnull().sum()",
      "metadata": {
        "trusted": true
      },
      "execution_count": 12,
      "outputs": [
        {
          "execution_count": 12,
          "output_type": "execute_result",
          "data": {
            "text/plain": "Date               0\nTime            2219\nLocation          20\nOperator          18\nFlight #        4199\nRoute           1706\nType              27\nRegistration     335\ncn/In           1228\nAboard            22\nFatalities        12\nGround            22\nSummary          390\ndtype: int64"
          },
          "metadata": {}
        }
      ]
    },
    {
      "cell_type": "code",
      "source": "#IDENTIFYING THE DUPLICATED VALUES IN OUR DATA\n#THERE IS NO DUPLICATED VALUES IN OUR DATASET\n\ndata.duplicated().sum()",
      "metadata": {
        "trusted": true
      },
      "execution_count": 28,
      "outputs": [
        {
          "execution_count": 28,
          "output_type": "execute_result",
          "data": {
            "text/plain": "0"
          },
          "metadata": {}
        }
      ]
    },
    {
      "cell_type": "code",
      "source": "4- DATA VISUALIZATION",
      "metadata": {},
      "execution_count": null,
      "outputs": []
    },
    {
      "cell_type": "code",
      "source": "plt.scatter(data['Date'], data['Fatalities'])",
      "metadata": {
        "trusted": true
      },
      "execution_count": null,
      "outputs": []
    },
    {
      "cell_type": "code",
      "source": "",
      "metadata": {},
      "execution_count": null,
      "outputs": []
    }
  ]
}